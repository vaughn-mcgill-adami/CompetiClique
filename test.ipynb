{
 "cells": [
  {
   "cell_type": "code",
   "execution_count": 1,
   "metadata": {},
   "outputs": [],
   "source": [
    "import torch"
   ]
  },
  {
   "cell_type": "code",
   "execution_count": 13,
   "metadata": {},
   "outputs": [],
   "source": [
    "values = torch.ones(1000,3,2)\n",
    "selectors = torch.arange(2)[None, None, :] == torch.randint(low=-1,high=1,size=(1000,3))[:,:,None]"
   ]
  },
  {
   "cell_type": "code",
   "execution_count": 17,
   "metadata": {},
   "outputs": [
    {
     "data": {
      "text/plain": [
       "tensor([[[False, False],\n",
       "         [False, False],\n",
       "         [False, False]],\n",
       "\n",
       "        [[False, False],\n",
       "         [False, False],\n",
       "         [ True, False]],\n",
       "\n",
       "        [[False, False],\n",
       "         [ True, False],\n",
       "         [ True, False]],\n",
       "\n",
       "        ...,\n",
       "\n",
       "        [[False, False],\n",
       "         [ True, False],\n",
       "         [False, False]],\n",
       "\n",
       "        [[False, False],\n",
       "         [ True, False],\n",
       "         [ True, False]],\n",
       "\n",
       "        [[False, False],\n",
       "         [ True, False],\n",
       "         [False, False]]])"
      ]
     },
     "execution_count": 17,
     "metadata": {},
     "output_type": "execute_result"
    }
   ],
   "source": [
    "selectors"
   ]
  },
  {
   "cell_type": "code",
   "execution_count": 14,
   "metadata": {},
   "outputs": [],
   "source": [
    "indices = torch.masked_fill(torch.cumsum(selectors.int(), dim=-1), ~selectors, 0)"
   ]
  },
  {
   "cell_type": "code",
   "execution_count": 15,
   "metadata": {},
   "outputs": [],
   "source": [
    "selected = torch.scatter(input=torch.zeros_like(values), dim=-1, index=indices, src=values)[...,1:]"
   ]
  },
  {
   "cell_type": "code",
   "execution_count": 3,
   "metadata": {},
   "outputs": [
    {
     "ename": "ValueError",
     "evalue": "max() iterable argument is empty",
     "output_type": "error",
     "traceback": [
      "\u001b[0;31m---------------------------------------------------------------------------\u001b[0m",
      "\u001b[0;31mValueError\u001b[0m                                Traceback (most recent call last)",
      "Cell \u001b[0;32mIn[3], line 1\u001b[0m\n\u001b[0;32m----> 1\u001b[0m \u001b[38;5;28;43mmax\u001b[39;49m\u001b[43m(\u001b[49m\u001b[43m[\u001b[49m\u001b[43m]\u001b[49m\u001b[43m)\u001b[49m\n",
      "\u001b[0;31mValueError\u001b[0m: max() iterable argument is empty"
     ]
    }
   ],
   "source": [
    "max([])"
   ]
  },
  {
   "cell_type": "code",
   "execution_count": 4,
   "metadata": {},
   "outputs": [
    {
     "ename": "TypeError",
     "evalue": "scatter() received an invalid combination of arguments - got (), but expected one of:\n * (Tensor input, int dim, Tensor index, Tensor src, *, Tensor out)\n * (Tensor input, int dim, Tensor index, Tensor src, *, str reduce, Tensor out)\n * (Tensor input, name dim, Tensor index, Tensor src)\n * (Tensor input, int dim, Tensor index, Number value, *, Tensor out)\n * (Tensor input, int dim, Tensor index, Number value, *, str reduce, Tensor out)\n * (Tensor input, name dim, Tensor index, Number value)\n",
     "output_type": "error",
     "traceback": [
      "\u001b[0;31m---------------------------------------------------------------------------\u001b[0m",
      "\u001b[0;31mTypeError\u001b[0m                                 Traceback (most recent call last)",
      "Cell \u001b[0;32mIn[4], line 1\u001b[0m\n\u001b[0;32m----> 1\u001b[0m \u001b[43mtorch\u001b[49m\u001b[38;5;241;43m.\u001b[39;49m\u001b[43mscatter\u001b[49m\u001b[43m(\u001b[49m\u001b[43m)\u001b[49m\n",
      "\u001b[0;31mTypeError\u001b[0m: scatter() received an invalid combination of arguments - got (), but expected one of:\n * (Tensor input, int dim, Tensor index, Tensor src, *, Tensor out)\n * (Tensor input, int dim, Tensor index, Tensor src, *, str reduce, Tensor out)\n * (Tensor input, name dim, Tensor index, Tensor src)\n * (Tensor input, int dim, Tensor index, Number value, *, Tensor out)\n * (Tensor input, int dim, Tensor index, Number value, *, str reduce, Tensor out)\n * (Tensor input, name dim, Tensor index, Number value)\n"
     ]
    }
   ],
   "source": [
    "torch.scatter()"
   ]
  },
  {
   "cell_type": "code",
   "execution_count": 6,
   "metadata": {},
   "outputs": [],
   "source": [
    "import torch\n",
    "x = torch.stack([torch.arange(5) if k%2 else torch.arange(4,-1,-1) for k in range(7)])"
   ]
  },
  {
   "cell_type": "code",
   "execution_count": 8,
   "metadata": {},
   "outputs": [
    {
     "data": {
      "text/plain": [
       "tensor([[4, 3, 2, 1, 0],\n",
       "        [4, 3, 2, 1, 0],\n",
       "        [0, 1, 2, 3, 4],\n",
       "        [0, 1, 2, 3, 4],\n",
       "        [4, 3, 2, 1, 0],\n",
       "        [4, 3, 2, 1, 0],\n",
       "        [0, 1, 2, 3, 4],\n",
       "        [0, 1, 2, 3, 4],\n",
       "        [4, 3, 2, 1, 0],\n",
       "        [4, 3, 2, 1, 0],\n",
       "        [0, 1, 2, 3, 4],\n",
       "        [0, 1, 2, 3, 4],\n",
       "        [4, 3, 2, 1, 0],\n",
       "        [4, 3, 2, 1, 0]])"
      ]
     },
     "execution_count": 8,
     "metadata": {},
     "output_type": "execute_result"
    }
   ],
   "source": [
    "x.repeat_interleave(2, dim=-2)"
   ]
  },
  {
   "cell_type": "code",
   "execution_count": null,
   "metadata": {},
   "outputs": [],
   "source": []
  }
 ],
 "metadata": {
  "kernelspec": {
   "display_name": "competiclique",
   "language": "python",
   "name": "python3"
  },
  "language_info": {
   "codemirror_mode": {
    "name": "ipython",
    "version": 3
   },
   "file_extension": ".py",
   "mimetype": "text/x-python",
   "name": "python",
   "nbconvert_exporter": "python",
   "pygments_lexer": "ipython3",
   "version": "3.12.3"
  }
 },
 "nbformat": 4,
 "nbformat_minor": 2
}
