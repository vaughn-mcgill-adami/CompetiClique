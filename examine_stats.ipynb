{
 "cells": [
  {
   "cell_type": "code",
   "execution_count": 42,
   "metadata": {},
   "outputs": [],
   "source": [
    "import torch\n",
    "import networkx as nx\n",
    "import matplotlib.pyplot as plt\n",
    "\n",
    "from config import *\n",
    "from main import run_trajectory, update_final_layer, update_embedding_size\n",
    "from simple_decoder_transformer import SimpleDecoderTransformer\n",
    "from competiclique_the_game import CompetiClique\n",
    "\n",
    "from copy import deepcopy\n",
    "\n",
    "builder_states = torch.load(\"builder_policy_opt.pt\")\n",
    "forbidder_states = torch.load(\"forbidder_policy_opt.pt\")\n",
    "\n",
    "device = torch.device(DEVICE)\n",
    "\n",
    "model = SimpleDecoderTransformer(L=LAYERS, H=HEADS, d_e=EMBEDDING_DIM, d_mlp = MLP_DIM, n_tokens=N_TOKENS, n_positions=POSITIONS, n_out=N_OUT).to(device)\n",
    "\n",
    "game = CompetiClique()\n",
    "\n",
    "builder_policy = deepcopy(model)#SimpleDecoderTransformer(L = 2, H = 4, d_e = 32, d_mlp = 48)\n",
    "forbidder_policy = deepcopy(model)#SimpleDecoderTransformer(L = 2, H = 4, d_e = 32, d_mlp = 48)"
   ]
  },
  {
   "cell_type": "code",
   "execution_count": 43,
   "metadata": {},
   "outputs": [
    {
     "ename": "RuntimeError",
     "evalue": "Error(s) in loading state_dict for SimpleDecoderTransformer:\n\tsize mismatch for vertex_embedding.weight: copying a param with shape torch.Size([10, 64]) from checkpoint, the shape in current model is torch.Size([105, 64]).\n\tsize mismatch for position_embedding.weight: copying a param with shape torch.Size([40, 64]) from checkpoint, the shape in current model is torch.Size([19800, 64]).\n\tsize mismatch for final_linear.weight: copying a param with shape torch.Size([10, 64]) from checkpoint, the shape in current model is torch.Size([105, 64]).\n\tsize mismatch for final_linear.bias: copying a param with shape torch.Size([10]) from checkpoint, the shape in current model is torch.Size([105]).",
     "output_type": "error",
     "traceback": [
      "\u001b[0;31m---------------------------------------------------------------------------\u001b[0m",
      "\u001b[0;31mRuntimeError\u001b[0m                              Traceback (most recent call last)",
      "Cell \u001b[0;32mIn[43], line 1\u001b[0m\n\u001b[0;32m----> 1\u001b[0m \u001b[43mbuilder_policy\u001b[49m\u001b[38;5;241;43m.\u001b[39;49m\u001b[43mload_state_dict\u001b[49m\u001b[43m(\u001b[49m\u001b[43mbuilder_states\u001b[49m\u001b[43m[\u001b[49m\u001b[38;5;124;43m'\u001b[39;49m\u001b[38;5;124;43mbuilder_policy_state_dict\u001b[39;49m\u001b[38;5;124;43m'\u001b[39;49m\u001b[43m]\u001b[49m\u001b[43m)\u001b[49m\n\u001b[1;32m      2\u001b[0m forbidder_policy\u001b[38;5;241m.\u001b[39mload_state_dict(forbidder_states[\u001b[38;5;124m'\u001b[39m\u001b[38;5;124mforbidder_policy_state_dict\u001b[39m\u001b[38;5;124m'\u001b[39m])\n\u001b[1;32m      4\u001b[0m \u001b[38;5;28mprint\u001b[39m()\n",
      "File \u001b[0;32m~/miniconda3/envs/competiclique/lib/python3.12/site-packages/torch/nn/modules/module.py:2189\u001b[0m, in \u001b[0;36mModule.load_state_dict\u001b[0;34m(self, state_dict, strict, assign)\u001b[0m\n\u001b[1;32m   2184\u001b[0m         error_msgs\u001b[38;5;241m.\u001b[39minsert(\n\u001b[1;32m   2185\u001b[0m             \u001b[38;5;241m0\u001b[39m, \u001b[38;5;124m'\u001b[39m\u001b[38;5;124mMissing key(s) in state_dict: \u001b[39m\u001b[38;5;132;01m{}\u001b[39;00m\u001b[38;5;124m. \u001b[39m\u001b[38;5;124m'\u001b[39m\u001b[38;5;241m.\u001b[39mformat(\n\u001b[1;32m   2186\u001b[0m                 \u001b[38;5;124m'\u001b[39m\u001b[38;5;124m, \u001b[39m\u001b[38;5;124m'\u001b[39m\u001b[38;5;241m.\u001b[39mjoin(\u001b[38;5;124mf\u001b[39m\u001b[38;5;124m'\u001b[39m\u001b[38;5;124m\"\u001b[39m\u001b[38;5;132;01m{\u001b[39;00mk\u001b[38;5;132;01m}\u001b[39;00m\u001b[38;5;124m\"\u001b[39m\u001b[38;5;124m'\u001b[39m \u001b[38;5;28;01mfor\u001b[39;00m k \u001b[38;5;129;01min\u001b[39;00m missing_keys)))\n\u001b[1;32m   2188\u001b[0m \u001b[38;5;28;01mif\u001b[39;00m \u001b[38;5;28mlen\u001b[39m(error_msgs) \u001b[38;5;241m>\u001b[39m \u001b[38;5;241m0\u001b[39m:\n\u001b[0;32m-> 2189\u001b[0m     \u001b[38;5;28;01mraise\u001b[39;00m \u001b[38;5;167;01mRuntimeError\u001b[39;00m(\u001b[38;5;124m'\u001b[39m\u001b[38;5;124mError(s) in loading state_dict for \u001b[39m\u001b[38;5;132;01m{}\u001b[39;00m\u001b[38;5;124m:\u001b[39m\u001b[38;5;130;01m\\n\u001b[39;00m\u001b[38;5;130;01m\\t\u001b[39;00m\u001b[38;5;132;01m{}\u001b[39;00m\u001b[38;5;124m'\u001b[39m\u001b[38;5;241m.\u001b[39mformat(\n\u001b[1;32m   2190\u001b[0m                        \u001b[38;5;28mself\u001b[39m\u001b[38;5;241m.\u001b[39m\u001b[38;5;18m__class__\u001b[39m\u001b[38;5;241m.\u001b[39m\u001b[38;5;18m__name__\u001b[39m, \u001b[38;5;124m\"\u001b[39m\u001b[38;5;130;01m\\n\u001b[39;00m\u001b[38;5;130;01m\\t\u001b[39;00m\u001b[38;5;124m\"\u001b[39m\u001b[38;5;241m.\u001b[39mjoin(error_msgs)))\n\u001b[1;32m   2191\u001b[0m \u001b[38;5;28;01mreturn\u001b[39;00m _IncompatibleKeys(missing_keys, unexpected_keys)\n",
      "\u001b[0;31mRuntimeError\u001b[0m: Error(s) in loading state_dict for SimpleDecoderTransformer:\n\tsize mismatch for vertex_embedding.weight: copying a param with shape torch.Size([10, 64]) from checkpoint, the shape in current model is torch.Size([105, 64]).\n\tsize mismatch for position_embedding.weight: copying a param with shape torch.Size([40, 64]) from checkpoint, the shape in current model is torch.Size([19800, 64]).\n\tsize mismatch for final_linear.weight: copying a param with shape torch.Size([10, 64]) from checkpoint, the shape in current model is torch.Size([105, 64]).\n\tsize mismatch for final_linear.bias: copying a param with shape torch.Size([10]) from checkpoint, the shape in current model is torch.Size([105])."
     ]
    }
   ],
   "source": [
    "builder_policy.load_state_dict(builder_states['builder_policy_state_dict'])\n",
    "forbidder_policy.load_state_dict(forbidder_states['forbidder_policy_state_dict'])\n",
    "\n",
    "print()"
   ]
  },
  {
   "cell_type": "code",
   "execution_count": null,
   "metadata": {},
   "outputs": [],
   "source": [
    "training_stats = builder_states['training_stats']\n",
    "builder_discounted_return = [batch_stats['average_builder_return'] for batch_stats, eval_stats in training_stats]\n",
    "forbidder_discounted_return = [batch_stats['average_forbidder_return'] for batch_stats, eval_stats in training_stats]"
   ]
  },
  {
   "cell_type": "code",
   "execution_count": null,
   "metadata": {},
   "outputs": [
    {
     "data": {
      "text/plain": [
       "[<matplotlib.lines.Line2D at 0x7e85c96bc200>]"
      ]
     },
     "execution_count": 5,
     "metadata": {},
     "output_type": "execute_result"
    },
    {
     "data": {
      "image/png": "[encoded data removed]",
      "text/plain": [
       "<Figure size 640x480 with 1 Axes>"
      ]
     },
     "metadata": {},
     "output_type": "display_data"
    }
   ],
   "source": [
    "plt.plot(range(len(builder_discounted_return)), builder_discounted_return)\n",
    "plt.plot(range(len(forbidder_discounted_return)), forbidder_discounted_return)"
   ]
  },
  {
   "cell_type": "code",
   "execution_count": 41,
   "metadata": {},
   "outputs": [
    {
     "name": "stdout",
     "output_type": "stream",
     "text": [
      "nobody_wins\n",
      "1\n",
      "clique size goal = 3\n",
      "edges per builder turn = 1\n",
      "vertices per forbidder turn = 2\n"
     ]
    },
    {
     "data": {
      "image/png": "[encoded data removed]",
      "text/plain": [
       "<Figure size 640x480 with 1 Axes>"
      ]
     },
     "metadata": {},
     "output_type": "display_data"
    }
   ],
   "source": [
    "trajectory = None\n",
    "with torch.no_grad():\n",
    "    trajectory = run_trajectory(game, builder_policy, forbidder_policy, device, evalu=True)\n",
    "print(trajectory[-1])\n",
    "print(trajectory[-5])\n",
    "print(\"clique size goal =\", game.K)\n",
    "print(\"edges per builder turn =\", game.M)\n",
    "print(\"vertices per forbidder turn =\", game.N)\n",
    "\n",
    "for graph in trajectory[-2]:\n",
    "    color_map = list('red' if graph.nodes[node]['forbidden'] else 'blue' for node in graph)\n",
    "    nx.draw(graph, node_color=color_map, with_labels=True)\n",
    "    plt.show()"
   ]
  },
  {
   "cell_type": "code",
   "execution_count": 7,
   "metadata": {},
   "outputs": [
    {
     "data": {
      "text/plain": [
       "(deque([tensor([[0.0045, 0.0026, 0.0032, 0.0052, 0.0043, 0.0216, 0.0151, 0.0141, 0.0105,\n",
       "                 0.0036, 0.0130, 0.0047, 0.0131, 0.0034, 0.0092, 0.0047, 0.0102, 0.0029,\n",
       "                 0.0224, 0.0100, 0.0046, 0.0059, 0.0081, 0.0031, 0.0349, 0.0156, 0.0131,\n",
       "                 0.0064, 0.0077, 0.0056, 0.0151, 0.0052, 0.0031, 0.0075, 0.0120, 0.0152,\n",
       "                 0.0031, 0.0102, 0.0033, 0.0095, 0.0138, 0.0045, 0.0099, 0.0239, 0.0226,\n",
       "                 0.0043, 0.0151, 0.0101, 0.0062, 0.0139, 0.0104, 0.0181, 0.0052, 0.0034,\n",
       "                 0.0093, 0.0128, 0.0177, 0.0241, 0.0081, 0.0090, 0.0116, 0.0119, 0.0099,\n",
       "                 0.0114, 0.0052, 0.0092, 0.0068, 0.0087, 0.0087, 0.0105, 0.0119, 0.0104,\n",
       "                 0.0158, 0.0045, 0.0037, 0.0061, 0.0069, 0.0081, 0.0143, 0.0151, 0.0038,\n",
       "                 0.0080, 0.0081, 0.0068, 0.0081, 0.0045, 0.0116, 0.0080, 0.0067, 0.0085,\n",
       "                 0.0127, 0.0055, 0.0060, 0.0066, 0.0019, 0.0096, 0.0083, 0.0110, 0.0131,\n",
       "                 0.0073, 0.0088, 0.0034, 0.0153, 0.0137, 0.0020],\n",
       "                [0.0049, 0.0040, 0.0068, 0.0055, 0.0061, 0.0183, 0.0099, 0.0186, 0.0051,\n",
       "                 0.0046, 0.0055, 0.0088, 0.0083, 0.0064, 0.0195, 0.0099, 0.0138, 0.0073,\n",
       "                 0.0112, 0.0289, 0.0059, 0.0091, 0.0053, 0.0145, 0.0114, 0.0102, 0.0118,\n",
       "                 0.0056, 0.0194, 0.0041, 0.0068, 0.0043, 0.0075, 0.0069, 0.0057, 0.0045,\n",
       "                 0.0098, 0.0061, 0.0149, 0.0080, 0.0119, 0.0056, 0.0087, 0.0239, 0.0180,\n",
       "                 0.0045, 0.0083, 0.0083, 0.0197, 0.0135, 0.0069, 0.0112, 0.0099, 0.0040,\n",
       "                 0.0081, 0.0096, 0.0036, 0.0096, 0.0040, 0.0155, 0.0106, 0.0111, 0.0155,\n",
       "                 0.0110, 0.0087, 0.0274, 0.0058, 0.0040, 0.0121, 0.0094, 0.0056, 0.0115,\n",
       "                 0.0056, 0.0186, 0.0030, 0.0066, 0.0128, 0.0080, 0.0101, 0.0114, 0.0032,\n",
       "                 0.0033, 0.0086, 0.0140, 0.0105, 0.0041, 0.0039, 0.0161, 0.0095, 0.0052,\n",
       "                 0.0168, 0.0043, 0.0076, 0.0151, 0.0081, 0.0051, 0.0071, 0.0057, 0.0167,\n",
       "                 0.0104, 0.0082, 0.0084, 0.0036, 0.0127, 0.0028]])]),\n",
       " deque([tensor([103, 103])]),\n",
       " deque([-1]),\n",
       " deque([]),\n",
       " deque([]),\n",
       " deque([]),\n",
       " 1,\n",
       " deque([tensor([[  8,   6,   7,   4,  62,   0,   3, 103, 103]])]),\n",
       " deque([]),\n",
       " deque([<networkx.classes.graph.Graph at 0x7e85cd645760>]),\n",
       " 'nobody_wins')"
      ]
     },
     "execution_count": 7,
     "metadata": {},
     "output_type": "execute_result"
    }
   ],
   "source": [
    "trajectory"
   ]
  },
  {
   "cell_type": "code",
   "execution_count": null,
   "metadata": {},
   "outputs": [],
   "source": []
  }
 ],
 "metadata": {
  "kernelspec": {
   "display_name": "competiclique",
   "language": "python",
   "name": "python3"
  },
  "language_info": {
   "codemirror_mode": {
    "name": "ipython",
    "version": 3
   },
   "file_extension": ".py",
   "mimetype": "text/x-python",
   "name": "python",
   "nbconvert_exporter": "python",
   "pygments_lexer": "ipython3",
   "version": "3.12.3"
  }
 },
 "nbformat": 4,
 "nbformat_minor": 2
}
